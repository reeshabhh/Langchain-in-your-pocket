{
 "cells": [
  {
   "cell_type": "code",
   "execution_count": 7,
   "id": "211d15f5-d705-49a9-b770-024988ad597b",
   "metadata": {},
   "outputs": [
    {
     "name": "stdout",
     "output_type": "stream",
     "text": [
      "True\n",
      "True\n"
     ]
    }
   ],
   "source": [
    "from dotenv import load_dotenv\n",
    "env_loaded_bool : bool = load_dotenv('../.env')\n",
    "print(env_loaded_bool)\n",
    "import os\n",
    "OPENAI_API_KEY = os.environ.get('OPENAI_API_KEY')\n",
    "api_key_bool = OPENAI_API_KEY != \"\"\n",
    "print(api_key_bool)"
   ]
  },
  {
   "cell_type": "code",
   "execution_count": 8,
   "id": "8d290041-8129-47e7-a70f-6450259f152e",
   "metadata": {},
   "outputs": [],
   "source": [
    "from langchain.prompts import PromptTemplate\n",
    "from langchain.llms import OpenAI\n",
    "from langchain.chains import LLMChain"
   ]
  },
  {
   "cell_type": "code",
   "execution_count": 9,
   "id": "fe405362-8271-45c3-bea7-d4b7857660ed",
   "metadata": {},
   "outputs": [],
   "source": [
    "prompt = PromptTemplate.from_template(' Suggest {number} names for a {domain} startup?')"
   ]
  },
  {
   "cell_type": "code",
   "execution_count": 10,
   "id": "6b2e356e-a3e3-4c5b-b5fd-216d0235a89d",
   "metadata": {},
   "outputs": [],
   "source": [
    "# llm = OpenAI(openai_api_key = OPENAI_API_KEY, model='gpt-3.5-turbo-instruct')\n",
    "llm = OpenAI(model='gpt-3.5-turbo-instruct') # OPENAI_API_KEY will be loaded from environment variable OPENAI_API_KEY\n",
    "chain = LLMChain(llm=llm, prompt=prompt)"
   ]
  },
  {
   "cell_type": "code",
   "execution_count": 11,
   "id": "34ca5ee3-cfe8-4cd8-93fc-6d45c60a430f",
   "metadata": {},
   "outputs": [
    {
     "name": "stdout",
     "output_type": "stream",
     "text": [
      "\n",
      "\n",
      "1. \"Savory Solutions\"\n",
      "2. \"Kitchen Kreation Co.\"\n",
      "3. \"Culinary Crafters\"\n",
      "4. \"FoodieFix\"\n",
      "5. \"Gourmet Genius\"\n"
     ]
    }
   ],
   "source": [
    "print(chain.run({'number':'5', 'domain': 'cooking'}))"
   ]
  },
  {
   "cell_type": "code",
   "execution_count": 12,
   "id": "4be35e3d-f8ee-4960-8b14-f8530196de89",
   "metadata": {},
   "outputs": [
    {
     "name": "stdout",
     "output_type": "stream",
     "text": [
      "\n",
      "\n",
      "1. IntellifyTech\n",
      "2. CognifyAI\n"
     ]
    }
   ],
   "source": [
    "print(chain.run({'number': '2', 'domain': 'AI'}))"
   ]
  },
  {
   "cell_type": "code",
   "execution_count": null,
   "id": "2100928d-7d74-4e3d-9598-26fd65560361",
   "metadata": {},
   "outputs": [],
   "source": []
  },
  {
   "cell_type": "code",
   "execution_count": null,
   "id": "febc5bbc-b888-4111-914c-25ae72e93797",
   "metadata": {},
   "outputs": [],
   "source": []
  }
 ],
 "metadata": {
  "kernelspec": {
   "display_name": "Python 3 (ipykernel)",
   "language": "python",
   "name": "python3"
  },
  "language_info": {
   "codemirror_mode": {
    "name": "ipython",
    "version": 3
   },
   "file_extension": ".py",
   "mimetype": "text/x-python",
   "name": "python",
   "nbconvert_exporter": "python",
   "pygments_lexer": "ipython3",
   "version": "3.8.1"
  }
 },
 "nbformat": 4,
 "nbformat_minor": 5
}
